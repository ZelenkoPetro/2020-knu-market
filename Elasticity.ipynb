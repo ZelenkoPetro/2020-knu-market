{
 "cells": [
  {
   "cell_type": "code",
   "execution_count": null,
   "metadata": {},
   "outputs": [],
   "source": [
    "Обрахуємо коефіцієнт еластичності для певної моделі за допомогою лінійної регресії"
   ]
  },
  {
   "cell_type": "code",
   "execution_count": 1,
   "metadata": {},
   "outputs": [],
   "source": [
    "%matplotlib inline\n",
    "from Visualization import give_data, give_models_tree\n",
    "import statsmodels.formula.api as smf\n",
    "import statsmodels.api as sm\n",
    "import pandas as pd"
   ]
  },
  {
   "cell_type": "code",
   "execution_count": 2,
   "metadata": {},
   "outputs": [],
   "source": [
    "def elasticity_ols(data, give_info=False):# будує лінійну регресію відносно dataframe: Quantity ~ PriceUSD \n",
    "    linreg = smf.ols('Quantity ~ PriceUSD', data=data).fit()\n",
    "    if give_info:\n",
    "        print(linreg.summary())\n",
    "        sns.set()\n",
    "        fig1 = plt.figure(figsize=(12,8))\n",
    "        fig2 = plt.figure(figsize=(12, 8))\n",
    "        fig3 = plt.figure(figsize=(12,8))\n",
    "        fig1 = sm.graphics.plot_partregress_grid(linreg, fig=fig1)\n",
    "        fig2 = sm.graphics.plot_ccpr_grid(linreg, fig=fig2)\n",
    "        fig3 = sm.graphics.plot_regress_exog(linreg, 'PriceUSD', fig=fig3)\n",
    "        plt.show()\n",
    "    return linreg.params.PriceUSD"
   ]
  },
  {
   "cell_type": "code",
   "execution_count": 3,
   "metadata": {},
   "outputs": [],
   "source": [
    "def elasticity_ols_models(data, models, give_info=False, correct_length_of_sales=9):# знаходить эластичність по всіх моделях у models\n",
    "    d = data[data['Model'].isin(models)]\n",
    "    res = {}\n",
    "    for j in d.Model.unique():\n",
    "        d2 = d[d['Model'] == j]\n",
    "        if (data[data['Model'] == j]).shape[0] >= correct_length_of_sales:\n",
    "            try:\n",
    "                res[j] = elasticity_ols(d2, give_info)\n",
    "            except Exception:\n",
    "                pass\n",
    "    return pd.DataFrame.from_dict({'Model' : list(res.keys()), 'Elasticity' : list(res.values())})"
   ]
  },
  {
   "cell_type": "code",
   "execution_count": 4,
   "metadata": {},
   "outputs": [],
   "source": [
    "data = give_data()\n",
    "data2 = data[data['Source'] == 'Traditional Sales']\n",
    "model_tree = give_models_tree(data2)"
   ]
  },
  {
   "cell_type": "code",
   "execution_count": 5,
   "metadata": {},
   "outputs": [
    {
     "name": "stdout",
     "output_type": "stream",
     "text": [
      "                            OLS Regression Results                            \n",
      "==============================================================================\n",
      "Dep. Variable:               Quantity   R-squared:                       0.102\n",
      "Model:                            OLS   Adj. R-squared:                  0.012\n",
      "Method:                 Least Squares   F-statistic:                     1.136\n",
      "Date:                Thu, 23 Jan 2020   Prob (F-statistic):              0.312\n",
      "Time:                        20:18:39   Log-Likelihood:                -57.816\n",
      "No. Observations:                  12   AIC:                             119.6\n",
      "Df Residuals:                      10   BIC:                             120.6\n",
      "Df Model:                           1                                         \n",
      "Covariance Type:            nonrobust                                         \n",
      "==============================================================================\n",
      "                 coef    std err          t      P>|t|      [0.025      0.975]\n",
      "------------------------------------------------------------------------------\n",
      "Intercept     96.4147     67.666      1.425      0.185     -54.355     247.185\n",
      "PriceUSD      -0.5860      0.550     -1.066      0.312      -1.811       0.639\n",
      "==============================================================================\n",
      "Omnibus:                        6.846   Durbin-Watson:                   2.342\n",
      "Prob(Omnibus):                  0.033   Jarque-Bera (JB):                3.315\n",
      "Skew:                           1.232   Prob(JB):                        0.191\n",
      "Kurtosis:                       3.747   Cond. No.                         880.\n",
      "==============================================================================\n",
      "\n",
      "Warnings:\n",
      "[1] Standard Errors assume that the covariance matrix of the errors is correctly specified.\n"
     ]
    },
    {
     "name": "stderr",
     "output_type": "stream",
     "text": [
      "c:\\users\\zelen\\desktop\\python projects\\lib\\site-packages\\scipy\\stats\\stats.py:1534: UserWarning: kurtosistest only valid for n>=20 ... continuing anyway, n=12\n",
      "  warnings.warn(\"kurtosistest only valid for n>=20 ... continuing \"\n"
     ]
    },
    {
     "data": {
      "text/html": [
       "<div>\n",
       "<style scoped>\n",
       "    .dataframe tbody tr th:only-of-type {\n",
       "        vertical-align: middle;\n",
       "    }\n",
       "\n",
       "    .dataframe tbody tr th {\n",
       "        vertical-align: top;\n",
       "    }\n",
       "\n",
       "    .dataframe thead th {\n",
       "        text-align: right;\n",
       "    }\n",
       "</style>\n",
       "<table border=\"1\" class=\"dataframe\">\n",
       "  <thead>\n",
       "    <tr style=\"text-align: right;\">\n",
       "      <th></th>\n",
       "      <th>Model</th>\n",
       "      <th>Elasticity</th>\n",
       "    </tr>\n",
       "  </thead>\n",
       "  <tbody>\n",
       "  </tbody>\n",
       "</table>\n",
       "</div>"
      ],
      "text/plain": [
       "Empty DataFrame\n",
       "Columns: [Model, Elasticity]\n",
       "Index: []"
      ]
     },
     "execution_count": 5,
     "metadata": {},
     "output_type": "execute_result"
    }
   ],
   "source": [
    "elasticity_ols_models(data2, model_tree['TRADEBRAND'], give_info=True)"
   ]
  },
  {
   "cell_type": "code",
   "execution_count": null,
   "outputs": [],
   "source": [
    "elasticity_ols_models(data2, model_tree['SAMSUNG'])"
   ],
   "metadata": {
    "collapsed": false,
    "pycharm": {
     "name": "#%%\n"
    }
   }
  },
  {
   "cell_type": "code",
   "execution_count": 6,
   "metadata": {},
   "outputs": [
    {
     "data": {
      "text/html": [
       "<div>\n",
       "<style scoped>\n",
       "    .dataframe tbody tr th:only-of-type {\n",
       "        vertical-align: middle;\n",
       "    }\n",
       "\n",
       "    .dataframe tbody tr th {\n",
       "        vertical-align: top;\n",
       "    }\n",
       "\n",
       "    .dataframe thead th {\n",
       "        text-align: right;\n",
       "    }\n",
       "</style>\n",
       "<table border=\"1\" class=\"dataframe\">\n",
       "  <thead>\n",
       "    <tr style=\"text-align: right;\">\n",
       "      <th></th>\n",
       "      <th>Model</th>\n",
       "      <th>Elasticity</th>\n",
       "    </tr>\n",
       "  </thead>\n",
       "  <tbody>\n",
       "    <tr>\n",
       "      <th>0</th>\n",
       "      <td>RB37J5000SA/UA</td>\n",
       "      <td>-0.504816</td>\n",
       "    </tr>\n",
       "    <tr>\n",
       "      <th>1</th>\n",
       "      <td>RB37J5000EF/UA</td>\n",
       "      <td>0.455472</td>\n",
       "    </tr>\n",
       "    <tr>\n",
       "      <th>2</th>\n",
       "      <td>RB33J3000SA</td>\n",
       "      <td>-2.767178</td>\n",
       "    </tr>\n",
       "    <tr>\n",
       "      <th>3</th>\n",
       "      <td>RB37J5220SA</td>\n",
       "      <td>-0.748785</td>\n",
       "    </tr>\n",
       "    <tr>\n",
       "      <th>4</th>\n",
       "      <td>RB30J3000SA</td>\n",
       "      <td>2.876504</td>\n",
       "    </tr>\n",
       "    <tr>\n",
       "      <th>...</th>\n",
       "      <td>...</td>\n",
       "      <td>...</td>\n",
       "    </tr>\n",
       "    <tr>\n",
       "      <th>65</th>\n",
       "      <td>RB34N5291SL/UA</td>\n",
       "      <td>-0.082553</td>\n",
       "    </tr>\n",
       "    <tr>\n",
       "      <th>66</th>\n",
       "      <td>RB34N5440B1/UA</td>\n",
       "      <td>-0.901621</td>\n",
       "    </tr>\n",
       "    <tr>\n",
       "      <th>67</th>\n",
       "      <td>RB34N5440EF/UA</td>\n",
       "      <td>-0.998432</td>\n",
       "    </tr>\n",
       "    <tr>\n",
       "      <th>68</th>\n",
       "      <td>RB34N5291EF/UA</td>\n",
       "      <td>-0.032461</td>\n",
       "    </tr>\n",
       "    <tr>\n",
       "      <th>69</th>\n",
       "      <td>RB34N5440SS/UA</td>\n",
       "      <td>-0.051446</td>\n",
       "    </tr>\n",
       "  </tbody>\n",
       "</table>\n",
       "<p>70 rows × 2 columns</p>\n",
       "</div>"
      ],
      "text/plain": [
       "             Model  Elasticity\n",
       "0   RB37J5000SA/UA   -0.504816\n",
       "1   RB37J5000EF/UA    0.455472\n",
       "2      RB33J3000SA   -2.767178\n",
       "3      RB37J5220SA   -0.748785\n",
       "4      RB30J3000SA    2.876504\n",
       "..             ...         ...\n",
       "65  RB34N5291SL/UA   -0.082553\n",
       "66  RB34N5440B1/UA   -0.901621\n",
       "67  RB34N5440EF/UA   -0.998432\n",
       "68  RB34N5291EF/UA   -0.032461\n",
       "69  RB34N5440SS/UA   -0.051446\n",
       "\n",
       "[70 rows x 2 columns]"
      ]
     },
     "execution_count": 6,
     "metadata": {},
     "output_type": "execute_result"
    }
   ],
   "source": [
    "Обчислення еластичності по группам товарів будуть додані після кластерного аналізу"
   ]
  },
  {
   "cell_type": "code",
   "execution_count": null,
   "metadata": {},
   "outputs": [],
   "source": [
    "Обчислення еластичності по группам товарів будуть додані після кластерного аналізу"
   ]
  }
 ],
 "metadata": {
  "kernelspec": {
   "display_name": "Python 3",
   "language": "python",
   "name": "python3"
  },
  "language_info": {
   "codemirror_mode": {
    "name": "ipython",
    "version": 3
   },
   "file_extension": ".py",
   "mimetype": "text/x-python",
   "name": "python",
   "nbconvert_exporter": "python",
   "pygments_lexer": "ipython3",
   "version": "3.8.1"
  },
  "pycharm": {
   "stem_cell": {
    "cell_type": "raw",
    "source": [],
    "metadata": {
     "collapsed": false
    }
   }
  }
 },
 "nbformat": 4,
 "nbformat_minor": 4
}